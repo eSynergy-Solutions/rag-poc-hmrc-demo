{
 "cells": [
  {
   "cell_type": "code",
   "execution_count": 2,
   "metadata": {},
   "outputs": [],
   "source": [
    "from astrapy import DataAPIClient\n",
    "from astrapy.constants import VectorMetric\n",
    "from astrapy.ids import UUID\n",
    "# from astrapy.info import CollectionDefinition\n",
    "\n",
    "\n",
    "ASTRA_DB_APPLICATION_TOKEN=\"AstraCS:dlNDuzLxZwsDfujcCAXlupvH:a62b0c13b526b104aadedbd1c8e73b9e6859a54054051d710cd771614bbc0038\"\n",
    "ASTRA_DB_API_ENDPOINT=\"https://9acd4f66-6b9e-4680-be3f-952a692dd9eb-us-east-2.apps.astra.datastax.com\"\n",
    "ASTRA_DB_KEYSPACE=\"defra_chatbot_keyspace\"\n"
   ]
  },
  {
   "cell_type": "code",
   "execution_count": 5,
   "metadata": {},
   "outputs": [
    {
     "data": {
      "text/plain": [
       "Database(api_endpoint=\"https://9acd4f66-6b9e-4680-be3f-952a692dd9eb-us-east-2.apps.astra.datastax.com\", token=\"AstraCS:dlND...\", keyspace=\"default_keyspace\")"
      ]
     },
     "execution_count": 5,
     "metadata": {},
     "output_type": "execute_result"
    }
   ],
   "source": [
    "\n",
    "# Connect and create the Database object\n",
    "my_client = DataAPIClient()\n",
    "my_database = my_client.get_database(\n",
    "    ASTRA_DB_API_ENDPOINT,\n",
    "    token=ASTRA_DB_APPLICATION_TOKEN,\n",
    ")\n",
    "my_database\n"
   ]
  },
  {
   "cell_type": "code",
   "execution_count": 7,
   "metadata": {},
   "outputs": [
    {
     "data": {
      "text/plain": [
       "Collection(name=\"hmrc_poc_discovery\", keyspace=\"default_keyspace\", database=Database(api_endpoint=\"https://9acd4f66-6b9e-4680-be3f-952a692dd9eb-us-east-2.apps.astra.datastax.com\", token=\"AstraCS:dlND...\", keyspace=\"default_keyspace\"), api_options=CollectionAPIOptions(max_time_ms=None, embedding_api_key=EmbeddingAPIKeyHeaderProvider(empty)))"
      ]
     },
     "execution_count": 7,
     "metadata": {},
     "output_type": "execute_result"
    }
   ],
   "source": [
    "my_collection = my_database.get_collection(name=\"hmrc_poc_discovery\")\n",
    "my_collection"
   ]
  },
  {
   "cell_type": "code",
   "execution_count": null,
   "metadata": {},
   "outputs": [],
   "source": [
    "\n",
    "# Populate the collection with some documents\n",
    "my_collection.insert_many(\n",
    "    [\n",
    "        {\n",
    "            \"_id\": UUID(\"018e65c9-e33d-749b-9386-e848739582f0\"),\n",
    "            \"summary\": \"Riding the waves\",\n",
    "            \"tags\": [\"sport\"],\n",
    "            \"$vector\": [0, 0.2, 1],\n",
    "        },\n",
    "        {\n",
    "            \"summary\": \"Friendly aliens in town\",\n",
    "            \"tags\": [\"scifi\"],\n",
    "            \"$vector\": [-0.3, 0, 0.8],\n",
    "        },\n",
    "        {\n",
    "            \"summary\": \"Meeting Beethoven at the dentist\",\n",
    "            \"$vector\": [0.2, 0.6, 0],\n",
    "        },\n",
    "    ],\n",
    ")\n",
    "\n",
    "my_collection.update_one(\n",
    "    {\"tags\": \"sport\"},\n",
    "    {\"$set\": {\"summary\": \"Surfers' paradise\"}},\n",
    ")\n",
    "\n",
    "# Run a vector search\n",
    "cursor = my_collection.find(\n",
    "    {},\n",
    "    sort={\"$vector\": [0, 0.2, 0.4]},\n",
    "    limit=2,\n",
    "    include_similarity=True,\n",
    ")\n",
    "\n",
    "for result in cursor:\n",
    "    print(f\"{result['summary']}: {result['$similarity']}\")\n",
    "\n",
    "# This would print:\n",
    "#   Surfers' paradise: 0.98238194\n",
    "#   Friendly aliens in town: 0.91873914\n",
    "\n",
    "# Resource cleanup\n",
    "my_collection.drop()\n"
   ]
  }
 ],
 "metadata": {
  "kernelspec": {
   "display_name": ".venv",
   "language": "python",
   "name": "python3"
  },
  "language_info": {
   "codemirror_mode": {
    "name": "ipython",
    "version": 3
   },
   "file_extension": ".py",
   "mimetype": "text/x-python",
   "name": "python",
   "nbconvert_exporter": "python",
   "pygments_lexer": "ipython3",
   "version": "3.13.2"
  }
 },
 "nbformat": 4,
 "nbformat_minor": 2
}
