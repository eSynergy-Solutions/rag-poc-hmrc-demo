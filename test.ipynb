{
 "cells": [
  {
   "cell_type": "code",
   "execution_count": 8,
   "id": "4d764bda",
   "metadata": {},
   "outputs": [],
   "source": [
    "import yaml\n",
    "\n",
    "def yaml_to_json(yaml_string):\n",
    "    \"\"\"\n",
    "    Convert a YAML string to a Python dictionary\n",
    "    \n",
    "    Parameters:\n",
    "    yaml_string (str): The YAML content as a string\n",
    "    \n",
    "    Returns:\n",
    "    dict: The converted Python dictionary\n",
    "    \"\"\"\n",
    "    try:\n",
    "        # Parse YAML string to Python dictionary\n",
    "        yaml_dict = yaml.safe_load(yaml_string)\n",
    "        \n",
    "        # Return the dictionary directly instead of converting to JSON string\n",
    "        return yaml_dict\n",
    "    except Exception as e:\n",
    "        return f\"Error converting YAML to dictionary: {str(e)}\"\n",
    "\n",
    "# Example usage\n",
    "# dict_output = yaml_to_json(\"your_yaml_string_here\")\n"
   ]
  },
  {
   "cell_type": "code",
   "execution_count": 9,
   "id": "c68549a8",
   "metadata": {},
   "outputs": [],
   "source": [
    "x = yaml_to_json(\"\"\"openapi: 3.0.4\n",
    "info:\n",
    "  title: Sample API\n",
    "  description: Optional multiline or single-line description in [CommonMark](http://commonmark.org/help/) or HTML.\n",
    "  version: 0.1.9\n",
    "\n",
    "servers:\n",
    "  - url: http://api.example.com/v1\n",
    "    description: Optional server description, e.g. Main (production) server\n",
    "  - url: http://staging-api.example.com\n",
    "    description: Optional server description, e.g. Internal staging server for testing\n",
    "\n",
    "paths:\n",
    "  /users:\n",
    "    get:\n",
    "      summary: Returns a list of users.\n",
    "      description: Optional extended description in CommonMark or HTML.\n",
    "      responses:\n",
    "        \"200\": # status code\n",
    "          description: A JSON array of user names\n",
    "          content:\n",
    "            application/json:\n",
    "              schema:\n",
    "                type: array\n",
    "                items:\n",
    "                  type: string\n",
    "\"\"\")"
   ]
  },
  {
   "cell_type": "code",
   "execution_count": 12,
   "id": "b3232441",
   "metadata": {},
   "outputs": [
    {
     "ename": "TypeError",
     "evalue": "argument of type 'NoneType' is not iterable",
     "output_type": "error",
     "traceback": [
      "\u001b[31m---------------------------------------------------------------------------\u001b[39m",
      "\u001b[31mTypeError\u001b[39m                                 Traceback (most recent call last)",
      "\u001b[36mCell\u001b[39m\u001b[36m \u001b[39m\u001b[32mIn[12]\u001b[39m\u001b[32m, line 5\u001b[39m\n\u001b[32m      1\u001b[39m \u001b[38;5;28;01mfrom\u001b[39;00m\u001b[38;5;250m \u001b[39m\u001b[34;01mopenapi_spec_validator\u001b[39;00m\u001b[38;5;250m \u001b[39m\u001b[38;5;28;01mimport\u001b[39;00m validate\n\u001b[32m      4\u001b[39m \u001b[38;5;66;03m# If no exception is raised by validate(), the spec is valid.\u001b[39;00m\n\u001b[32m----> \u001b[39m\u001b[32m5\u001b[39m x = \u001b[43mvalidate\u001b[49m\u001b[43m(\u001b[49m\u001b[43mx\u001b[49m\u001b[43m)\u001b[49m\n",
      "\u001b[36mFile \u001b[39m\u001b[32m~/Desktop/rag-poc-hmrc-demo/.venv/lib/python3.13/site-packages/openapi_spec_validator/shortcuts.py:45\u001b[39m, in \u001b[36mvalidate\u001b[39m\u001b[34m(spec, base_uri, cls)\u001b[39m\n\u001b[32m     39\u001b[39m \u001b[38;5;28;01mdef\u001b[39;00m\u001b[38;5;250m \u001b[39m\u001b[34mvalidate\u001b[39m(\n\u001b[32m     40\u001b[39m     spec: Schema,\n\u001b[32m     41\u001b[39m     base_uri: \u001b[38;5;28mstr\u001b[39m = \u001b[33m\"\u001b[39m\u001b[33m\"\u001b[39m,\n\u001b[32m     42\u001b[39m     \u001b[38;5;28mcls\u001b[39m: Optional[SpecValidatorType] = \u001b[38;5;28;01mNone\u001b[39;00m,\n\u001b[32m     43\u001b[39m ) -> \u001b[38;5;28;01mNone\u001b[39;00m:\n\u001b[32m     44\u001b[39m     \u001b[38;5;28;01mif\u001b[39;00m \u001b[38;5;28mcls\u001b[39m \u001b[38;5;129;01mis\u001b[39;00m \u001b[38;5;28;01mNone\u001b[39;00m:\n\u001b[32m---> \u001b[39m\u001b[32m45\u001b[39m         \u001b[38;5;28mcls\u001b[39m = \u001b[43mget_validator_cls\u001b[49m\u001b[43m(\u001b[49m\u001b[43mspec\u001b[49m\u001b[43m)\u001b[49m\n\u001b[32m     46\u001b[39m     sp = SchemaPath.from_dict(spec, base_uri=base_uri)\n\u001b[32m     47\u001b[39m     v = \u001b[38;5;28mcls\u001b[39m(sp)\n",
      "\u001b[36mFile \u001b[39m\u001b[32m~/Desktop/rag-poc-hmrc-demo/.venv/lib/python3.13/site-packages/openapi_spec_validator/shortcuts.py:32\u001b[39m, in \u001b[36mget_validator_cls\u001b[39m\u001b[34m(spec)\u001b[39m\n\u001b[32m     30\u001b[39m \u001b[38;5;28;01mdef\u001b[39;00m\u001b[38;5;250m \u001b[39m\u001b[34mget_validator_cls\u001b[39m(spec: Schema) -> SpecValidatorType:\n\u001b[32m     31\u001b[39m     \u001b[38;5;28;01mtry\u001b[39;00m:\n\u001b[32m---> \u001b[39m\u001b[32m32\u001b[39m         spec_version = \u001b[43mget_spec_version\u001b[49m\u001b[43m(\u001b[49m\u001b[43mspec\u001b[49m\u001b[43m)\u001b[49m\n\u001b[32m     33\u001b[39m     \u001b[38;5;66;03m# backward compatibility\u001b[39;00m\n\u001b[32m     34\u001b[39m     \u001b[38;5;28;01mexcept\u001b[39;00m OpenAPIVersionNotFound:\n",
      "\u001b[36mFile \u001b[39m\u001b[32m~/Desktop/rag-poc-hmrc-demo/.venv/lib/python3.13/site-packages/openapi_spec_validator/versions/shortcuts.py:10\u001b[39m, in \u001b[36mget_spec_version\u001b[39m\u001b[34m(spec)\u001b[39m\n\u001b[32m      8\u001b[39m \u001b[38;5;28;01mdef\u001b[39;00m\u001b[38;5;250m \u001b[39m\u001b[34mget_spec_version\u001b[39m(spec: Schema) -> SpecVersion:\n\u001b[32m      9\u001b[39m     finder = SpecVersionFinder(VERSIONS)\n\u001b[32m---> \u001b[39m\u001b[32m10\u001b[39m     \u001b[38;5;28;01mreturn\u001b[39;00m \u001b[43mfinder\u001b[49m\u001b[43m.\u001b[49m\u001b[43mfind\u001b[49m\u001b[43m(\u001b[49m\u001b[43mspec\u001b[49m\u001b[43m)\u001b[49m\n",
      "\u001b[36mFile \u001b[39m\u001b[32m~/Desktop/rag-poc-hmrc-demo/.venv/lib/python3.13/site-packages/openapi_spec_validator/versions/finders.py:18\u001b[39m, in \u001b[36mSpecVersionFinder.find\u001b[39m\u001b[34m(self, spec)\u001b[39m\n\u001b[32m     16\u001b[39m \u001b[38;5;28;01mdef\u001b[39;00m\u001b[38;5;250m \u001b[39m\u001b[34mfind\u001b[39m(\u001b[38;5;28mself\u001b[39m, spec: Schema) -> SpecVersion:\n\u001b[32m     17\u001b[39m     \u001b[38;5;28;01mfor\u001b[39;00m v \u001b[38;5;129;01min\u001b[39;00m \u001b[38;5;28mself\u001b[39m.versions:\n\u001b[32m---> \u001b[39m\u001b[32m18\u001b[39m         \u001b[38;5;28;01mif\u001b[39;00m \u001b[43mv\u001b[49m\u001b[43m.\u001b[49m\u001b[43mkeyword\u001b[49m\u001b[43m \u001b[49m\u001b[38;5;129;43;01min\u001b[39;49;00m\u001b[43m \u001b[49m\u001b[43mspec\u001b[49m:\n\u001b[32m     19\u001b[39m             version_str = spec[v.keyword]\n\u001b[32m     20\u001b[39m             m = \u001b[38;5;28mself\u001b[39m.pattern.match(version_str)\n",
      "\u001b[31mTypeError\u001b[39m: argument of type 'NoneType' is not iterable"
     ]
    }
   ],
   "source": [
    "from openapi_spec_validator import validate\n",
    "\n",
    "\n",
    "# If no exception is raised by validate(), the spec is valid.\n",
    "x = validate(x)"
   ]
  },
  {
   "cell_type": "code",
   "execution_count": 14,
   "id": "761def42",
   "metadata": {},
   "outputs": [
    {
     "name": "stdout",
     "output_type": "stream",
     "text": [
      "None\n"
     ]
    }
   ],
   "source": [
    "print(x)"
   ]
  },
  {
   "cell_type": "code",
   "execution_count": null,
   "id": "aec7e9ae",
   "metadata": {},
   "outputs": [],
   "source": [
    "try:\n",
    "    raise Exception(\"This is an example exception\")\n",
    "    x = \"Hello\"\n",
    "except Exception as e:"
   ]
  }
 ],
 "metadata": {
  "kernelspec": {
   "display_name": ".venv",
   "language": "python",
   "name": "python3"
  },
  "language_info": {
   "codemirror_mode": {
    "name": "ipython",
    "version": 3
   },
   "file_extension": ".py",
   "mimetype": "text/x-python",
   "name": "python",
   "nbconvert_exporter": "python",
   "pygments_lexer": "ipython3",
   "version": "3.13.2"
  }
 },
 "nbformat": 4,
 "nbformat_minor": 5
}
